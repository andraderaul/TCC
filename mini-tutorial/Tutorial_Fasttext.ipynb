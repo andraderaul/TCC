{
 "cells": [
  {
   "cell_type": "code",
   "execution_count": 1,
   "metadata": {},
   "outputs": [
    {
     "name": "stdout",
     "output_type": "stream",
     "text": [
      "done !\n"
     ]
    }
   ],
   "source": [
    "from gensim.models import FastText\n",
    "\n",
    "\n",
    "import multiprocessing\n",
    "\n",
    "import nltk\n",
    "import string\n",
    "from time import time\n",
    "\n",
    "print('done !')"
   ]
  },
  {
   "cell_type": "code",
   "execution_count": 2,
   "metadata": {},
   "outputs": [],
   "source": [
    "cores = multiprocessing.cpu_count() # Count the number of cores in a computer"
   ]
  },
  {
   "cell_type": "code",
   "execution_count": 3,
   "metadata": {},
   "outputs": [
    {
     "name": "stdout",
     "output_type": "stream",
     "text": [
      "14840456\n",
      "Time to open the files: 0.01 mins\n"
     ]
    }
   ],
   "source": [
    "t = time()\n",
    "\n",
    "from nltk.corpus import machado\n",
    "\n",
    "raw_data = machado.raw()\n",
    "\n",
    "print(len(raw_data))\n",
    "print('Time to open the files: {} mins'.format(round((time() - t) / 60, 2)))"
   ]
  },
  {
   "cell_type": "code",
   "execution_count": 4,
   "metadata": {},
   "outputs": [],
   "source": [
    "def clean_text(text):\n",
    "    text = text.lower()\n",
    "\n",
    "    text =  text.replace(\"\\n\", \" \")\n",
    "    text = text.replace(\"\\xad\", \"\")\n",
    "    text = text.replace(\"\\x97\", \"\")\n",
    "    text = text.replace(\"\\x94\", \"\")\n",
    "    text = text.replace(\"\\x93\", \"\")\n",
    "    text = text.replace(\"\\x92\", \"\")\n",
    "     \n",
    "        ## Specific Words\n",
    "    text = text.replace(\"...\", \"\")\n",
    "    text = text.replace(\"'\", \"\")\n",
    "    text = text.replace('\"', \"\")\n",
    "    text = text.replace('—', \"\")\n",
    "     \n",
    "        ## Numbers with Word\n",
    "    text = text.replace(\"0\", \" zero \")\n",
    "    text = text.replace(\"1\", \" um \")\n",
    "    text = text.replace(\"2\", \" dois \")\n",
    "    text = text.replace(\"3\", \" tres \")\n",
    "    text = text.replace(\"4\", \" quatro \")\n",
    "    text = text.replace(\"5\", \" cinco \")\n",
    "    text = text.replace(\"6\", \" seis \")\n",
    "    text = text.replace(\"7\", \" sete \")\n",
    "    text = text.replace(\"8\", \" oito \")\n",
    "    text = text.replace(\"9\", \" nove \")\n",
    "    \n",
    "    ## replace punctuation\n",
    "    punc = set(string.punctuation)\n",
    "    for p in punc:\n",
    "        if p != \".\":\n",
    "            text = text.replace(p, \" \")\n",
    "\n",
    "    text = \" \".join(text.split())\n",
    "    \n",
    "    return text"
   ]
  },
  {
   "cell_type": "code",
   "execution_count": 5,
   "metadata": {
    "scrolled": true
   },
   "outputs": [
    {
     "name": "stdout",
     "output_type": "stream",
     "text": [
      "Time to clean the vocabulary: 0.01 mins\n"
     ]
    }
   ],
   "source": [
    "t = time()\n",
    "data = clean_text(raw_data)\n",
    "print('Time to clean the vocabulary: {} mins'.format(round((time() - t) / 60, 2)))            "
   ]
  },
  {
   "cell_type": "code",
   "execution_count": 6,
   "metadata": {},
   "outputs": [],
   "source": [
    "def build_vocabulary():\n",
    "    split_data = []\n",
    "    stopwords = nltk.corpus.stopwords.words('portuguese')\n",
    "\n",
    "    for lines in data.split('.'):\n",
    "        tmp_line = []\n",
    "        for word in lines.strip().split(' '):\n",
    "            if word not in stopwords:\n",
    "                if len(word) > 0:\n",
    "                    tmp_line.append(word)\n",
    "        if len(tmp_line) > 0:\n",
    "            split_data.append(tmp_line)\n",
    "    return split_data    "
   ]
  },
  {
   "cell_type": "code",
   "execution_count": 7,
   "metadata": {},
   "outputs": [
    {
     "name": "stdout",
     "output_type": "stream",
     "text": [
      "Time to build the vocabulary: 0.06 mins\n"
     ]
    }
   ],
   "source": [
    "t = time()\n",
    "sentences = build_vocabulary()\n",
    "print('Time to build the vocabulary: {} mins'.format(round((time() - t) / 60, 2)))            "
   ]
  },
  {
   "cell_type": "code",
   "execution_count": 8,
   "metadata": {},
   "outputs": [
    {
     "data": {
      "text/plain": [
       "['hesitação', 'possível', 'vou', 'apresentar', 'miss', 'dollar']"
      ]
     },
     "execution_count": 8,
     "metadata": {},
     "output_type": "execute_result"
    }
   ],
   "source": [
    "sentences[5]"
   ]
  },
  {
   "cell_type": "code",
   "execution_count": 9,
   "metadata": {},
   "outputs": [
    {
     "name": "stdout",
     "output_type": "stream",
     "text": [
      "Time to train the model: 0.76 mins\n",
      "done!\n"
     ]
    }
   ],
   "source": [
    "t = time()\n",
    "\n",
    "model = FastText(sentences, \n",
    "                 size=100, \n",
    "                 window=3, \n",
    "                 min_count=3, \n",
    "                 workers=cores-1, \n",
    "                 sg=1, \n",
    "                 alpha=0.020)\n",
    "\n",
    "print('Time to train the model: {} mins'.format(round((time() - t) / 60, 2)))\n",
    "print('done!')"
   ]
  },
  {
   "cell_type": "code",
   "execution_count": 11,
   "metadata": {},
   "outputs": [
    {
     "data": {
      "text/plain": [
       "[('hortênsia', 0.941196084022522),\n",
       " ('zangão', 0.9311948418617249),\n",
       " ('maganão', 0.9308333396911621)]"
      ]
     },
     "execution_count": 11,
     "metadata": {},
     "output_type": "execute_result"
    }
   ],
   "source": [
    "model.wv.most_similar(positive=['bentinho', 'paixão'], topn=3)"
   ]
  },
  {
   "cell_type": "code",
   "execution_count": 11,
   "metadata": {},
   "outputs": [
    {
     "data": {
      "text/plain": [
       "'escobar'"
      ]
     },
     "execution_count": 11,
     "metadata": {},
     "output_type": "execute_result"
    }
   ],
   "source": [
    "model.wv.doesnt_match(['bentinho', 'capitu', 'escobar'])"
   ]
  },
  {
   "cell_type": "code",
   "execution_count": 12,
   "metadata": {},
   "outputs": [
    {
     "data": {
      "text/plain": [
       "'escobar'"
      ]
     },
     "execution_count": 12,
     "metadata": {},
     "output_type": "execute_result"
    }
   ],
   "source": [
    "model.wv.doesnt_match(['escobar', 'sancha', 'bentinho'])"
   ]
  },
  {
   "cell_type": "code",
   "execution_count": 13,
   "metadata": {},
   "outputs": [
    {
     "data": {
      "text/plain": [
       "0.839652"
      ]
     },
     "execution_count": 13,
     "metadata": {},
     "output_type": "execute_result"
    }
   ],
   "source": [
    "model.wv.similarity('capitu', 'bentinho')"
   ]
  },
  {
   "cell_type": "code",
   "execution_count": 14,
   "metadata": {},
   "outputs": [
    {
     "data": {
      "text/plain": [
       "0.7968034"
      ]
     },
     "execution_count": 14,
     "metadata": {},
     "output_type": "execute_result"
    }
   ],
   "source": [
    "model.wv.similarity('capitu', 'escobar')"
   ]
  },
  {
   "cell_type": "code",
   "execution_count": 15,
   "metadata": {},
   "outputs": [
    {
     "data": {
      "text/plain": [
       "0.66492015"
      ]
     },
     "execution_count": 15,
     "metadata": {},
     "output_type": "execute_result"
    }
   ],
   "source": [
    "model.wv.similarity('escobar', 'sancha')"
   ]
  },
  {
   "cell_type": "code",
   "execution_count": 16,
   "metadata": {},
   "outputs": [
    {
     "data": {
      "text/plain": [
       "0.8865556"
      ]
     },
     "execution_count": 16,
     "metadata": {},
     "output_type": "execute_result"
    }
   ],
   "source": [
    "model.wv.similarity('ezequiel', 'menino')"
   ]
  },
  {
   "cell_type": "code",
   "execution_count": 17,
   "metadata": {},
   "outputs": [
    {
     "data": {
      "text/plain": [
       "[('mãe', 0.8563626408576965),\n",
       " ('irmã', 0.8255913257598877),\n",
       " ('filha', 0.8040051460266113)]"
      ]
     },
     "execution_count": 17,
     "metadata": {},
     "output_type": "execute_result"
    }
   ],
   "source": [
    "model.wv.most_similar(positive=[\"mulher\", \"irmão\"], negative=[\"homem\"], topn=3)"
   ]
  },
  {
   "cell_type": "code",
   "execution_count": 18,
   "metadata": {},
   "outputs": [
    {
     "data": {
      "text/plain": [
       "[('receberei', 0.7417745590209961),\n",
       " ('revirei', 0.7259093523025513),\n",
       " ('recebi', 0.7137913703918457)]"
      ]
     },
     "execution_count": 18,
     "metadata": {},
     "output_type": "execute_result"
    }
   ],
   "source": [
    "model.wv.most_similar(positive=[\"mulher\", \"rei\"], negative=[\"homem\"], topn=3)"
   ]
  },
  {
   "cell_type": "code",
   "execution_count": null,
   "metadata": {},
   "outputs": [],
   "source": [
    "https://towardsdatascience.com/word-embedding-with-word2vec-and-fasttext-a209c1d3e12c"
   ]
  },
  {
   "cell_type": "code",
   "execution_count": null,
   "metadata": {},
   "outputs": [],
   "source": []
  }
 ],
 "metadata": {
  "kernelspec": {
   "display_name": "Python 3",
   "language": "python",
   "name": "python3"
  },
  "language_info": {
   "codemirror_mode": {
    "name": "ipython",
    "version": 3
   },
   "file_extension": ".py",
   "mimetype": "text/x-python",
   "name": "python",
   "nbconvert_exporter": "python",
   "pygments_lexer": "ipython3",
   "version": "3.6.8"
  }
 },
 "nbformat": 4,
 "nbformat_minor": 2
}
