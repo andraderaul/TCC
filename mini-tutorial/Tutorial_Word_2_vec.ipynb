{
 "cells": [
  {
   "cell_type": "code",
   "execution_count": 60,
   "metadata": {},
   "outputs": [
    {
     "name": "stdout",
     "output_type": "stream",
     "text": [
      "done !\n"
     ]
    }
   ],
   "source": [
    "from gensim.models import Word2Vec\n",
    "\n",
    "import warnings\n",
    "warnings.filterwarnings('ignore')\n",
    "\n",
    "import multiprocessing\n",
    "\n",
    "import nltk\n",
    "import string\n",
    "from time import time\n",
    "\n",
    "print('done !')"
   ]
  },
  {
   "cell_type": "code",
   "execution_count": 61,
   "metadata": {},
   "outputs": [],
   "source": [
    "cores = multiprocessing.cpu_count() # Count the number of cores in a computer"
   ]
  },
  {
   "cell_type": "code",
   "execution_count": 95,
   "metadata": {},
   "outputs": [
    {
     "name": "stdout",
     "output_type": "stream",
     "text": [
      "14840456\n",
      "Time to open the files: 0.0 mins\n"
     ]
    }
   ],
   "source": [
    "t = time()\n",
    "\n",
    "from nltk.corpus import machado\n",
    "\n",
    "raw_data = machado.raw()\n",
    "\n",
    "print(len(raw_data))\n",
    "print('Time to open the files: {} mins'.format(round((time() - t) / 60, 2)))"
   ]
  },
  {
   "cell_type": "code",
   "execution_count": 63,
   "metadata": {},
   "outputs": [],
   "source": [
    "def clean_text(text):\n",
    "    text = text.lower()\n",
    "\n",
    "    text =  text.replace(\"\\n\", \" \")\n",
    "    text = text.replace(\"\\xad\", \"\")\n",
    "    text = text.replace(\"\\x97\", \"\")\n",
    "    text = text.replace(\"\\x94\", \"\")\n",
    "    text = text.replace(\"\\x93\", \"\")\n",
    "    text = text.replace(\"\\x92\", \"\")\n",
    "     \n",
    "        ## Specific Words\n",
    "    text = text.replace(\"...\", \"\")\n",
    "    text = text.replace(\"'\", \"\")\n",
    "    text = text.replace('\"', \"\")\n",
    "    text = text.replace('—', \"\")\n",
    "     \n",
    "        ## Numbers with Word\n",
    "    text = text.replace(\"0\", \" zero \")\n",
    "    text = text.replace(\"1\", \" um \")\n",
    "    text = text.replace(\"2\", \" dois \")\n",
    "    text = text.replace(\"3\", \" tres \")\n",
    "    text = text.replace(\"4\", \" quatro \")\n",
    "    text = text.replace(\"5\", \" cinco \")\n",
    "    text = text.replace(\"6\", \" seis \")\n",
    "    text = text.replace(\"7\", \" sete \")\n",
    "    text = text.replace(\"8\", \" oito \")\n",
    "    text = text.replace(\"9\", \" nove \")\n",
    "    \n",
    "    ## replace punctuation\n",
    "    punc = set(string.punctuation)\n",
    "    for p in punc:\n",
    "        if p != \".\":\n",
    "            text = text.replace(p, \" \")\n",
    "\n",
    "    text = \" \".join(text.split())\n",
    "    \n",
    "    return text"
   ]
  },
  {
   "cell_type": "code",
   "execution_count": 64,
   "metadata": {
    "scrolled": true
   },
   "outputs": [
    {
     "name": "stdout",
     "output_type": "stream",
     "text": [
      "Time to clean the vocabulary: 0.01 mins\n"
     ]
    }
   ],
   "source": [
    "t = time()\n",
    "data = clean_text(raw_data)\n",
    "print('Time to clean the vocabulary: {} mins'.format(round((time() - t) / 60, 2)))            "
   ]
  },
  {
   "cell_type": "code",
   "execution_count": 65,
   "metadata": {},
   "outputs": [],
   "source": [
    "def build_vocabulary():\n",
    "    split_data = []\n",
    "    stopwords = nltk.corpus.stopwords.words('portuguese')\n",
    "\n",
    "    for lines in data.split('.'):\n",
    "        tmp_line = []\n",
    "        for word in lines.strip().split(' '):\n",
    "            if word not in stopwords:\n",
    "                if len(word) > 0:\n",
    "                    tmp_line.append(word)\n",
    "        if len(tmp_line) > 0:\n",
    "            split_data.append(tmp_line)\n",
    "    return split_data    "
   ]
  },
  {
   "cell_type": "code",
   "execution_count": 66,
   "metadata": {},
   "outputs": [
    {
     "name": "stdout",
     "output_type": "stream",
     "text": [
      "Time to build the vocabulary: 0.08 mins\n"
     ]
    }
   ],
   "source": [
    "t = time()\n",
    "sentences = build_vocabulary()\n",
    "print('Time to build the vocabulary: {} mins'.format(round((time() - t) / 60, 2)))            "
   ]
  },
  {
   "cell_type": "code",
   "execution_count": 67,
   "metadata": {},
   "outputs": [
    {
     "data": {
      "text/plain": [
       "['hesitação', 'possível', 'vou', 'apresentar', 'miss', 'dollar']"
      ]
     },
     "execution_count": 67,
     "metadata": {},
     "output_type": "execute_result"
    }
   ],
   "source": [
    "sentences[5]"
   ]
  },
  {
   "cell_type": "code",
   "execution_count": 68,
   "metadata": {},
   "outputs": [
    {
     "name": "stdout",
     "output_type": "stream",
     "text": [
      "Time to train the model: 0.41 mins\n",
      "done!\n"
     ]
    }
   ],
   "source": [
    "t = time()\n",
    "\n",
    "model = Word2Vec(sentences,\n",
    "                 size=300,\n",
    "                 window=3,\n",
    "                 min_count=3, \n",
    "                 workers=cores-1, \n",
    "                 alpha=0.020, \n",
    "                 sg=1)\n",
    "\n",
    "print('Time to train the model: {} mins'.format(round((time() - t) / 60, 2)))\n",
    "print('done!')"
   ]
  },
  {
   "cell_type": "code",
   "execution_count": 113,
   "metadata": {},
   "outputs": [
    {
     "data": {
      "text/plain": [
       "[('loucura', 0.9538365602493286),\n",
       " ('egoísta', 0.9517403841018677),\n",
       " ('culpado', 0.9513823986053467)]"
      ]
     },
     "execution_count": 113,
     "metadata": {},
     "output_type": "execute_result"
    }
   ],
   "source": [
    "model.wv.most_similar(positive=['bentinho', 'paixão'], topn=3)"
   ]
  },
  {
   "cell_type": "code",
   "execution_count": 106,
   "metadata": {},
   "outputs": [
    {
     "data": {
      "text/plain": [
       "'bentinho'"
      ]
     },
     "execution_count": 106,
     "metadata": {},
     "output_type": "execute_result"
    }
   ],
   "source": [
    "model.wv.doesnt_match(['bentinho', 'capitu', 'escobar'])"
   ]
  },
  {
   "cell_type": "code",
   "execution_count": 119,
   "metadata": {},
   "outputs": [
    {
     "data": {
      "text/plain": [
       "'bentinho'"
      ]
     },
     "execution_count": 119,
     "metadata": {},
     "output_type": "execute_result"
    }
   ],
   "source": [
    "model.wv.doesnt_match(['escobar', 'sancha', 'bentinho'])"
   ]
  },
  {
   "cell_type": "code",
   "execution_count": 107,
   "metadata": {},
   "outputs": [
    {
     "data": {
      "text/plain": [
       "0.7204119"
      ]
     },
     "execution_count": 107,
     "metadata": {},
     "output_type": "execute_result"
    }
   ],
   "source": [
    "model.wv.similarity('capitu', 'bentinho')"
   ]
  },
  {
   "cell_type": "code",
   "execution_count": 108,
   "metadata": {},
   "outputs": [
    {
     "data": {
      "text/plain": [
       "0.8841846"
      ]
     },
     "execution_count": 108,
     "metadata": {},
     "output_type": "execute_result"
    }
   ],
   "source": [
    "model.wv.similarity('capitu', 'escobar')"
   ]
  },
  {
   "cell_type": "code",
   "execution_count": 109,
   "metadata": {},
   "outputs": [
    {
     "data": {
      "text/plain": [
       "0.950128"
      ]
     },
     "execution_count": 109,
     "metadata": {},
     "output_type": "execute_result"
    }
   ],
   "source": [
    "model.wv.similarity('escobar', 'sancha')"
   ]
  },
  {
   "cell_type": "code",
   "execution_count": 154,
   "metadata": {},
   "outputs": [
    {
     "data": {
      "text/plain": [
       "0.87992066"
      ]
     },
     "execution_count": 154,
     "metadata": {},
     "output_type": "execute_result"
    }
   ],
   "source": [
    "model.wv.similarity('ezequiel', 'menino')"
   ]
  },
  {
   "cell_type": "code",
   "execution_count": 145,
   "metadata": {},
   "outputs": [
    {
     "data": {
      "text/plain": [
       "[('irmã', 0.8425707817077637),\n",
       " ('mãe', 0.8179658651351929),\n",
       " ('noiva', 0.7957669496536255)]"
      ]
     },
     "execution_count": 145,
     "metadata": {},
     "output_type": "execute_result"
    }
   ],
   "source": [
    "model.wv.most_similar(positive=[\"mulher\", \"irmão\"], negative=[\"homem\"], topn=3)"
   ]
  },
  {
   "cell_type": "code",
   "execution_count": 148,
   "metadata": {},
   "outputs": [
    {
     "data": {
      "text/plain": [
       "[('esposa', 0.7204930186271667),\n",
       " ('el', 0.7060685157775879),\n",
       " ('pia', 0.705618679523468)]"
      ]
     },
     "execution_count": 148,
     "metadata": {},
     "output_type": "execute_result"
    }
   ],
   "source": [
    "model.wv.most_similar(positive=[\"mulher\", \"rei\"], negative=[\"homem\"], topn=3)"
   ]
  },
  {
   "cell_type": "code",
   "execution_count": null,
   "metadata": {},
   "outputs": [],
   "source": []
  },
  {
   "cell_type": "code",
   "execution_count": null,
   "metadata": {},
   "outputs": [],
   "source": []
  }
 ],
 "metadata": {
  "kernelspec": {
   "display_name": "Python 3",
   "language": "python",
   "name": "python3"
  },
  "language_info": {
   "codemirror_mode": {
    "name": "ipython",
    "version": 3
   },
   "file_extension": ".py",
   "mimetype": "text/x-python",
   "name": "python",
   "nbconvert_exporter": "python",
   "pygments_lexer": "ipython3",
   "version": "3.6.8"
  }
 },
 "nbformat": 4,
 "nbformat_minor": 2
}
